{
 "cells": [
  {
   "cell_type": "code",
   "execution_count": 1,
   "metadata": {},
   "outputs": [
    {
     "output_type": "stream",
     "name": "stdout",
     "text": [
      "Requirement already up-to-date: sklearn in c:\\users\\patou\\anaconda3\\lib\\site-packages (0.0)\nRequirement already satisfied, skipping upgrade: scikit-learn in c:\\users\\patou\\anaconda3\\lib\\site-packages (from sklearn) (0.23.1)\nRequirement already satisfied, skipping upgrade: threadpoolctl>=2.0.0 in c:\\users\\patou\\anaconda3\\lib\\site-packages (from scikit-learn->sklearn) (2.1.0)\nRequirement already satisfied, skipping upgrade: joblib>=0.11 in c:\\users\\patou\\anaconda3\\lib\\site-packages (from scikit-learn->sklearn) (0.16.0)\nRequirement already satisfied, skipping upgrade: numpy>=1.13.3 in c:\\users\\patou\\anaconda3\\lib\\site-packages (from scikit-learn->sklearn) (1.19.5)\nRequirement already satisfied, skipping upgrade: scipy>=0.19.1 in c:\\users\\patou\\anaconda3\\lib\\site-packages (from scikit-learn->sklearn) (1.5.0)\n"
     ]
    }
   ],
   "source": [
    "# Update sklearn to prevent version mismatches\n",
    "!pip install sklearn --upgrade"
   ]
  },
  {
   "cell_type": "code",
   "execution_count": 2,
   "metadata": {},
   "outputs": [
    {
     "output_type": "stream",
     "name": "stdout",
     "text": [
      "Requirement already satisfied: joblib in c:\\users\\patou\\anaconda3\\lib\\site-packages (0.16.0)\n"
     ]
    }
   ],
   "source": [
    "# install joblib. This will be used to save your model. \n",
    "# Restart your kernel after installing \n",
    "!pip install joblib"
   ]
  },
  {
   "cell_type": "code",
   "execution_count": 3,
   "metadata": {},
   "outputs": [],
   "source": [
    "import pandas as pd"
   ]
  },
  {
   "cell_type": "markdown",
   "metadata": {},
   "source": [
    "# Read the CSV and Perform Basic Data Cleaning"
   ]
  },
  {
   "cell_type": "code",
   "execution_count": 4,
   "metadata": {},
   "outputs": [
    {
     "output_type": "execute_result",
     "data": {
      "text/plain": [
       "  koi_disposition  koi_fpflag_nt  koi_fpflag_ss  koi_fpflag_co  koi_fpflag_ec  \\\n",
       "0       CONFIRMED              0              0              0              0   \n",
       "1  FALSE POSITIVE              0              1              0              0   \n",
       "2  FALSE POSITIVE              0              1              0              0   \n",
       "3       CONFIRMED              0              0              0              0   \n",
       "4       CONFIRMED              0              0              0              0   \n",
       "\n",
       "   koi_period  koi_period_err1  koi_period_err2  koi_time0bk  \\\n",
       "0   54.418383     2.479000e-04    -2.479000e-04   162.513840   \n",
       "1   19.899140     1.490000e-05    -1.490000e-05   175.850252   \n",
       "2    1.736952     2.630000e-07    -2.630000e-07   170.307565   \n",
       "3    2.525592     3.760000e-06    -3.760000e-06   171.595550   \n",
       "4    4.134435     1.050000e-05    -1.050000e-05   172.979370   \n",
       "\n",
       "   koi_time0bk_err1  ...  koi_steff_err2  koi_slogg  koi_slogg_err1  \\\n",
       "0          0.003520  ...             -81      4.467           0.064   \n",
       "1          0.000581  ...            -176      4.544           0.044   \n",
       "2          0.000115  ...            -174      4.564           0.053   \n",
       "3          0.001130  ...            -211      4.438           0.070   \n",
       "4          0.001900  ...            -232      4.486           0.054   \n",
       "\n",
       "   koi_slogg_err2  koi_srad  koi_srad_err1  koi_srad_err2         ra  \\\n",
       "0          -0.096     0.927          0.105         -0.061  291.93423   \n",
       "1          -0.176     0.868          0.233         -0.078  297.00482   \n",
       "2          -0.168     0.791          0.201         -0.067  285.53461   \n",
       "3          -0.210     1.046          0.334         -0.133  288.75488   \n",
       "4          -0.229     0.972          0.315         -0.105  296.28613   \n",
       "\n",
       "         dec  koi_kepmag  \n",
       "0  48.141651      15.347  \n",
       "1  48.134129      15.436  \n",
       "2  48.285210      15.597  \n",
       "3  48.226200      15.509  \n",
       "4  48.224670      15.714  \n",
       "\n",
       "[5 rows x 41 columns]"
      ],
      "text/html": "<div>\n<style scoped>\n    .dataframe tbody tr th:only-of-type {\n        vertical-align: middle;\n    }\n\n    .dataframe tbody tr th {\n        vertical-align: top;\n    }\n\n    .dataframe thead th {\n        text-align: right;\n    }\n</style>\n<table border=\"1\" class=\"dataframe\">\n  <thead>\n    <tr style=\"text-align: right;\">\n      <th></th>\n      <th>koi_disposition</th>\n      <th>koi_fpflag_nt</th>\n      <th>koi_fpflag_ss</th>\n      <th>koi_fpflag_co</th>\n      <th>koi_fpflag_ec</th>\n      <th>koi_period</th>\n      <th>koi_period_err1</th>\n      <th>koi_period_err2</th>\n      <th>koi_time0bk</th>\n      <th>koi_time0bk_err1</th>\n      <th>...</th>\n      <th>koi_steff_err2</th>\n      <th>koi_slogg</th>\n      <th>koi_slogg_err1</th>\n      <th>koi_slogg_err2</th>\n      <th>koi_srad</th>\n      <th>koi_srad_err1</th>\n      <th>koi_srad_err2</th>\n      <th>ra</th>\n      <th>dec</th>\n      <th>koi_kepmag</th>\n    </tr>\n  </thead>\n  <tbody>\n    <tr>\n      <th>0</th>\n      <td>CONFIRMED</td>\n      <td>0</td>\n      <td>0</td>\n      <td>0</td>\n      <td>0</td>\n      <td>54.418383</td>\n      <td>2.479000e-04</td>\n      <td>-2.479000e-04</td>\n      <td>162.513840</td>\n      <td>0.003520</td>\n      <td>...</td>\n      <td>-81</td>\n      <td>4.467</td>\n      <td>0.064</td>\n      <td>-0.096</td>\n      <td>0.927</td>\n      <td>0.105</td>\n      <td>-0.061</td>\n      <td>291.93423</td>\n      <td>48.141651</td>\n      <td>15.347</td>\n    </tr>\n    <tr>\n      <th>1</th>\n      <td>FALSE POSITIVE</td>\n      <td>0</td>\n      <td>1</td>\n      <td>0</td>\n      <td>0</td>\n      <td>19.899140</td>\n      <td>1.490000e-05</td>\n      <td>-1.490000e-05</td>\n      <td>175.850252</td>\n      <td>0.000581</td>\n      <td>...</td>\n      <td>-176</td>\n      <td>4.544</td>\n      <td>0.044</td>\n      <td>-0.176</td>\n      <td>0.868</td>\n      <td>0.233</td>\n      <td>-0.078</td>\n      <td>297.00482</td>\n      <td>48.134129</td>\n      <td>15.436</td>\n    </tr>\n    <tr>\n      <th>2</th>\n      <td>FALSE POSITIVE</td>\n      <td>0</td>\n      <td>1</td>\n      <td>0</td>\n      <td>0</td>\n      <td>1.736952</td>\n      <td>2.630000e-07</td>\n      <td>-2.630000e-07</td>\n      <td>170.307565</td>\n      <td>0.000115</td>\n      <td>...</td>\n      <td>-174</td>\n      <td>4.564</td>\n      <td>0.053</td>\n      <td>-0.168</td>\n      <td>0.791</td>\n      <td>0.201</td>\n      <td>-0.067</td>\n      <td>285.53461</td>\n      <td>48.285210</td>\n      <td>15.597</td>\n    </tr>\n    <tr>\n      <th>3</th>\n      <td>CONFIRMED</td>\n      <td>0</td>\n      <td>0</td>\n      <td>0</td>\n      <td>0</td>\n      <td>2.525592</td>\n      <td>3.760000e-06</td>\n      <td>-3.760000e-06</td>\n      <td>171.595550</td>\n      <td>0.001130</td>\n      <td>...</td>\n      <td>-211</td>\n      <td>4.438</td>\n      <td>0.070</td>\n      <td>-0.210</td>\n      <td>1.046</td>\n      <td>0.334</td>\n      <td>-0.133</td>\n      <td>288.75488</td>\n      <td>48.226200</td>\n      <td>15.509</td>\n    </tr>\n    <tr>\n      <th>4</th>\n      <td>CONFIRMED</td>\n      <td>0</td>\n      <td>0</td>\n      <td>0</td>\n      <td>0</td>\n      <td>4.134435</td>\n      <td>1.050000e-05</td>\n      <td>-1.050000e-05</td>\n      <td>172.979370</td>\n      <td>0.001900</td>\n      <td>...</td>\n      <td>-232</td>\n      <td>4.486</td>\n      <td>0.054</td>\n      <td>-0.229</td>\n      <td>0.972</td>\n      <td>0.315</td>\n      <td>-0.105</td>\n      <td>296.28613</td>\n      <td>48.224670</td>\n      <td>15.714</td>\n    </tr>\n  </tbody>\n</table>\n<p>5 rows × 41 columns</p>\n</div>"
     },
     "metadata": {},
     "execution_count": 4
    }
   ],
   "source": [
    "df = pd.read_csv(\"exoplanet_data.csv\")\n",
    "# Drop the null columns where all values are null\n",
    "df = df.dropna(axis='columns', how='all')\n",
    "# Drop the null rows\n",
    "df = df.dropna()\n",
    "df.head()"
   ]
  },
  {
   "cell_type": "markdown",
   "metadata": {},
   "source": [
    "# Select your features (columns)"
   ]
  },
  {
   "cell_type": "code",
   "execution_count": 5,
   "metadata": {},
   "outputs": [],
   "source": [
    "# Set features. This will also be used as your x values.\n",
    "# selected_features = df[['names', 'of', 'selected', 'features', 'here']]"
   ]
  },
  {
   "cell_type": "code",
   "execution_count": 6,
   "metadata": {},
   "outputs": [],
   "source": [
    "X =df.drop(\"koi_disposition\", axis=1)"
   ]
  },
  {
   "cell_type": "markdown",
   "metadata": {},
   "source": [
    "# Create a Train Test Split\n",
    "\n",
    "Use `koi_disposition` for the y values"
   ]
  },
  {
   "cell_type": "code",
   "execution_count": 7,
   "metadata": {},
   "outputs": [],
   "source": [
    "y =df[\"koi_disposition\"]\n"
   ]
  },
  {
   "cell_type": "code",
   "execution_count": 9,
   "metadata": {},
   "outputs": [
    {
     "output_type": "execute_result",
     "data": {
      "text/plain": [
       "      koi_fpflag_nt  koi_fpflag_ss  koi_fpflag_co  koi_fpflag_ec  koi_period  \\\n",
       "6122              0              0              0              0    6.768901   \n",
       "6370              0              1              0              1    0.733726   \n",
       "2879              1              0              0              0    7.652707   \n",
       "107               0              0              0              0    7.953547   \n",
       "29                0              0              0              0    4.959319   \n",
       "\n",
       "      koi_period_err1  koi_period_err2  koi_time0bk  koi_time0bk_err1  \\\n",
       "6122     7.380000e-05    -7.380000e-05   133.077240          0.008440   \n",
       "6370     6.060000e-06    -6.060000e-06   132.020050          0.007950   \n",
       "2879     6.540000e-05    -6.540000e-05   134.460380          0.006190   \n",
       "107      1.910000e-05    -1.910000e-05   174.662240          0.001820   \n",
       "29       5.150000e-07    -5.150000e-07   172.258529          0.000083   \n",
       "\n",
       "      koi_time0bk_err2  ...  koi_steff_err2  koi_slogg  koi_slogg_err1  \\\n",
       "6122         -0.008440  ...            -171      4.327           0.153   \n",
       "6370         -0.007950  ...            -175      4.578           0.033   \n",
       "2879         -0.006190  ...            -189      4.481           0.050   \n",
       "107          -0.001820  ...             -85      4.536           0.056   \n",
       "29           -0.000083  ...             -77      4.359           0.110   \n",
       "\n",
       "      koi_slogg_err2  koi_srad  koi_srad_err1  koi_srad_err2         ra  \\\n",
       "6122          -0.187     1.125          0.310         -0.207  294.40472   \n",
       "6370          -0.187     0.797          0.211         -0.056  284.50391   \n",
       "2879          -0.200     0.963          0.290         -0.097  295.50211   \n",
       "107           -0.016     0.779          0.023         -0.049  291.15878   \n",
       "29            -0.110     1.082          0.173         -0.130  292.16705   \n",
       "\n",
       "            dec  koi_kepmag  \n",
       "6122  39.351681      14.725  \n",
       "6370  42.463860      15.770  \n",
       "2879  38.983540      13.099  \n",
       "107   40.750271      15.660  \n",
       "29    48.727589      15.263  \n",
       "\n",
       "[5 rows x 40 columns]"
      ],
      "text/html": "<div>\n<style scoped>\n    .dataframe tbody tr th:only-of-type {\n        vertical-align: middle;\n    }\n\n    .dataframe tbody tr th {\n        vertical-align: top;\n    }\n\n    .dataframe thead th {\n        text-align: right;\n    }\n</style>\n<table border=\"1\" class=\"dataframe\">\n  <thead>\n    <tr style=\"text-align: right;\">\n      <th></th>\n      <th>koi_fpflag_nt</th>\n      <th>koi_fpflag_ss</th>\n      <th>koi_fpflag_co</th>\n      <th>koi_fpflag_ec</th>\n      <th>koi_period</th>\n      <th>koi_period_err1</th>\n      <th>koi_period_err2</th>\n      <th>koi_time0bk</th>\n      <th>koi_time0bk_err1</th>\n      <th>koi_time0bk_err2</th>\n      <th>...</th>\n      <th>koi_steff_err2</th>\n      <th>koi_slogg</th>\n      <th>koi_slogg_err1</th>\n      <th>koi_slogg_err2</th>\n      <th>koi_srad</th>\n      <th>koi_srad_err1</th>\n      <th>koi_srad_err2</th>\n      <th>ra</th>\n      <th>dec</th>\n      <th>koi_kepmag</th>\n    </tr>\n  </thead>\n  <tbody>\n    <tr>\n      <th>6122</th>\n      <td>0</td>\n      <td>0</td>\n      <td>0</td>\n      <td>0</td>\n      <td>6.768901</td>\n      <td>7.380000e-05</td>\n      <td>-7.380000e-05</td>\n      <td>133.077240</td>\n      <td>0.008440</td>\n      <td>-0.008440</td>\n      <td>...</td>\n      <td>-171</td>\n      <td>4.327</td>\n      <td>0.153</td>\n      <td>-0.187</td>\n      <td>1.125</td>\n      <td>0.310</td>\n      <td>-0.207</td>\n      <td>294.40472</td>\n      <td>39.351681</td>\n      <td>14.725</td>\n    </tr>\n    <tr>\n      <th>6370</th>\n      <td>0</td>\n      <td>1</td>\n      <td>0</td>\n      <td>1</td>\n      <td>0.733726</td>\n      <td>6.060000e-06</td>\n      <td>-6.060000e-06</td>\n      <td>132.020050</td>\n      <td>0.007950</td>\n      <td>-0.007950</td>\n      <td>...</td>\n      <td>-175</td>\n      <td>4.578</td>\n      <td>0.033</td>\n      <td>-0.187</td>\n      <td>0.797</td>\n      <td>0.211</td>\n      <td>-0.056</td>\n      <td>284.50391</td>\n      <td>42.463860</td>\n      <td>15.770</td>\n    </tr>\n    <tr>\n      <th>2879</th>\n      <td>1</td>\n      <td>0</td>\n      <td>0</td>\n      <td>0</td>\n      <td>7.652707</td>\n      <td>6.540000e-05</td>\n      <td>-6.540000e-05</td>\n      <td>134.460380</td>\n      <td>0.006190</td>\n      <td>-0.006190</td>\n      <td>...</td>\n      <td>-189</td>\n      <td>4.481</td>\n      <td>0.050</td>\n      <td>-0.200</td>\n      <td>0.963</td>\n      <td>0.290</td>\n      <td>-0.097</td>\n      <td>295.50211</td>\n      <td>38.983540</td>\n      <td>13.099</td>\n    </tr>\n    <tr>\n      <th>107</th>\n      <td>0</td>\n      <td>0</td>\n      <td>0</td>\n      <td>0</td>\n      <td>7.953547</td>\n      <td>1.910000e-05</td>\n      <td>-1.910000e-05</td>\n      <td>174.662240</td>\n      <td>0.001820</td>\n      <td>-0.001820</td>\n      <td>...</td>\n      <td>-85</td>\n      <td>4.536</td>\n      <td>0.056</td>\n      <td>-0.016</td>\n      <td>0.779</td>\n      <td>0.023</td>\n      <td>-0.049</td>\n      <td>291.15878</td>\n      <td>40.750271</td>\n      <td>15.660</td>\n    </tr>\n    <tr>\n      <th>29</th>\n      <td>0</td>\n      <td>0</td>\n      <td>0</td>\n      <td>0</td>\n      <td>4.959319</td>\n      <td>5.150000e-07</td>\n      <td>-5.150000e-07</td>\n      <td>172.258529</td>\n      <td>0.000083</td>\n      <td>-0.000083</td>\n      <td>...</td>\n      <td>-77</td>\n      <td>4.359</td>\n      <td>0.110</td>\n      <td>-0.110</td>\n      <td>1.082</td>\n      <td>0.173</td>\n      <td>-0.130</td>\n      <td>292.16705</td>\n      <td>48.727589</td>\n      <td>15.263</td>\n    </tr>\n  </tbody>\n</table>\n<p>5 rows × 40 columns</p>\n</div>"
     },
     "metadata": {},
     "execution_count": 9
    }
   ],
   "source": [
    "from sklearn.model_selection import train_test_split\n",
    "\n",
    "X_train, X_test, y_train, y_test = train_test_split(X, y, random_state=42)\n",
    "X_train.head()"
   ]
  },
  {
   "cell_type": "markdown",
   "metadata": {},
   "source": [
    "# Pre-processing\n",
    "\n",
    "Scale the data using the MinMaxScaler and perform some feature selection"
   ]
  },
  {
   "cell_type": "code",
   "execution_count": 10,
   "metadata": {},
   "outputs": [],
   "source": [
    "# Scale your data\n",
    "# Create a MinMaxScaler  model and fit it to the training data\n",
    "from sklearn.preprocessing import MinMaxScaler,LabelEncoder,StandardScaler\n",
    "X_scaler = MinMaxScaler().fit(X_train)"
   ]
  },
  {
   "cell_type": "markdown",
   "metadata": {},
   "source": [
    "# Train the Model\n",
    "\n"
   ]
  },
  {
   "cell_type": "code",
   "execution_count": 11,
   "metadata": {},
   "outputs": [],
   "source": [
    "# Transform the training and testing data using the X_scaler and y_scaler models\n",
    "X_train_scaled = X_scaler.transform(X_train)\n",
    "X_test_scaled = X_scaler.transform(X_test)"
   ]
  },
  {
   "cell_type": "code",
   "execution_count": 12,
   "metadata": {},
   "outputs": [],
   "source": [
    "from tensorflow.keras.utils import to_categorical\n",
    "# One-hot encoding\n",
    "\n",
    "label_encoder = LabelEncoder()\n",
    "label_encoder.fit(y_train)\n",
    "encoded_y_train = label_encoder.transform(y_train)\n",
    "encoded_y_test = label_encoder.transform(y_test)\n",
    "\n",
    "y_train_categorical = to_categorical(encoded_y_train)\n",
    "y_test_categorical = to_categorical(encoded_y_test)\n"
   ]
  },
  {
   "cell_type": "code",
   "execution_count": 13,
   "metadata": {},
   "outputs": [],
   "source": [
    "from tensorflow.keras.models import Sequential\n",
    "from tensorflow.keras.layers import Dense\n",
    "\n",
    "model = Sequential()\n",
    "model.add(Dense(units=100, activation='relu', input_dim=40))\n",
    "model.add(Dense(units=100, activation='relu'))\n",
    "model.add(Dense(units=3, activation='softmax'))"
   ]
  },
  {
   "cell_type": "code",
   "execution_count": 14,
   "metadata": {},
   "outputs": [
    {
     "output_type": "stream",
     "name": "stdout",
     "text": [
      "Model: \"sequential\"\n_________________________________________________________________\nLayer (type)                 Output Shape              Param #   \n=================================================================\ndense (Dense)                (None, 100)               4100      \n_________________________________________________________________\ndense_1 (Dense)              (None, 100)               10100     \n_________________________________________________________________\ndense_2 (Dense)              (None, 3)                 303       \n=================================================================\nTotal params: 14,503\nTrainable params: 14,503\nNon-trainable params: 0\n_________________________________________________________________\n"
     ]
    }
   ],
   "source": [
    "model.summary()"
   ]
  },
  {
   "cell_type": "code",
   "execution_count": 15,
   "metadata": {},
   "outputs": [],
   "source": [
    "model.compile(optimizer='adam',\n",
    "              loss='categorical_crossentropy',\n",
    "              metrics=['accuracy'])"
   ]
  },
  {
   "cell_type": "code",
   "execution_count": 16,
   "metadata": {},
   "outputs": [
    {
     "output_type": "stream",
     "name": "stdout",
     "text": [
      "Epoch 1/60\n",
      "164/164 - 1s - loss: 0.5150 - accuracy: 0.7290\n",
      "Epoch 2/60\n",
      "164/164 - 0s - loss: 0.3673 - accuracy: 0.8035\n",
      "Epoch 3/60\n",
      "164/164 - 0s - loss: 0.3519 - accuracy: 0.8161\n",
      "Epoch 4/60\n",
      "164/164 - 0s - loss: 0.3439 - accuracy: 0.8287\n",
      "Epoch 5/60\n",
      "164/164 - 0s - loss: 0.3390 - accuracy: 0.8270\n",
      "Epoch 6/60\n",
      "164/164 - 0s - loss: 0.3247 - accuracy: 0.8440\n",
      "Epoch 7/60\n",
      "164/164 - 0s - loss: 0.3228 - accuracy: 0.8451\n",
      "Epoch 8/60\n",
      "164/164 - 0s - loss: 0.3167 - accuracy: 0.8486\n",
      "Epoch 9/60\n",
      "164/164 - 0s - loss: 0.3147 - accuracy: 0.8533\n",
      "Epoch 10/60\n",
      "164/164 - 0s - loss: 0.3034 - accuracy: 0.8627\n",
      "Epoch 11/60\n",
      "164/164 - 0s - loss: 0.3062 - accuracy: 0.8617\n",
      "Epoch 12/60\n",
      "164/164 - 0s - loss: 0.3022 - accuracy: 0.8627\n",
      "Epoch 13/60\n",
      "164/164 - 0s - loss: 0.2926 - accuracy: 0.8697\n",
      "Epoch 14/60\n",
      "164/164 - 0s - loss: 0.2938 - accuracy: 0.8697\n",
      "Epoch 15/60\n",
      "164/164 - 0s - loss: 0.2954 - accuracy: 0.8652\n",
      "Epoch 16/60\n",
      "164/164 - 0s - loss: 0.2926 - accuracy: 0.8713\n",
      "Epoch 17/60\n",
      "164/164 - 0s - loss: 0.2891 - accuracy: 0.8730\n",
      "Epoch 18/60\n",
      "164/164 - 0s - loss: 0.2866 - accuracy: 0.8732\n",
      "Epoch 19/60\n",
      "164/164 - 0s - loss: 0.2822 - accuracy: 0.8751\n",
      "Epoch 20/60\n",
      "164/164 - 0s - loss: 0.2817 - accuracy: 0.8781\n",
      "Epoch 21/60\n",
      "164/164 - 0s - loss: 0.2797 - accuracy: 0.8762\n",
      "Epoch 22/60\n",
      "164/164 - 0s - loss: 0.2772 - accuracy: 0.8783\n",
      "Epoch 23/60\n",
      "164/164 - 0s - loss: 0.2832 - accuracy: 0.8749\n",
      "Epoch 24/60\n",
      "164/164 - 0s - loss: 0.2737 - accuracy: 0.8808\n",
      "Epoch 25/60\n",
      "164/164 - 0s - loss: 0.2708 - accuracy: 0.8821\n",
      "Epoch 26/60\n",
      "164/164 - 0s - loss: 0.2820 - accuracy: 0.8735\n",
      "Epoch 27/60\n",
      "164/164 - 0s - loss: 0.2759 - accuracy: 0.8762\n",
      "Epoch 28/60\n",
      "164/164 - 0s - loss: 0.2697 - accuracy: 0.8827\n",
      "Epoch 29/60\n",
      "164/164 - 0s - loss: 0.2768 - accuracy: 0.8774\n",
      "Epoch 30/60\n",
      "164/164 - 0s - loss: 0.2695 - accuracy: 0.8848\n",
      "Epoch 31/60\n",
      "164/164 - 0s - loss: 0.2679 - accuracy: 0.8774\n",
      "Epoch 32/60\n",
      "164/164 - 0s - loss: 0.2608 - accuracy: 0.8856\n",
      "Epoch 33/60\n",
      "164/164 - 0s - loss: 0.2600 - accuracy: 0.8840\n",
      "Epoch 34/60\n",
      "164/164 - 0s - loss: 0.2657 - accuracy: 0.8838\n",
      "Epoch 35/60\n",
      "164/164 - 0s - loss: 0.2658 - accuracy: 0.8861\n",
      "Epoch 36/60\n",
      "164/164 - 0s - loss: 0.2665 - accuracy: 0.8821\n",
      "Epoch 37/60\n",
      "164/164 - 0s - loss: 0.2616 - accuracy: 0.8869\n",
      "Epoch 38/60\n",
      "164/164 - 0s - loss: 0.2582 - accuracy: 0.8901\n",
      "Epoch 39/60\n",
      "164/164 - 0s - loss: 0.2553 - accuracy: 0.8877\n",
      "Epoch 40/60\n",
      "164/164 - 0s - loss: 0.2557 - accuracy: 0.8911\n",
      "Epoch 41/60\n",
      "164/164 - 0s - loss: 0.2560 - accuracy: 0.8886\n",
      "Epoch 42/60\n",
      "164/164 - 0s - loss: 0.2588 - accuracy: 0.8865\n",
      "Epoch 43/60\n",
      "164/164 - 0s - loss: 0.2549 - accuracy: 0.8899\n",
      "Epoch 44/60\n",
      "164/164 - 0s - loss: 0.2508 - accuracy: 0.8924\n",
      "Epoch 45/60\n",
      "164/164 - 0s - loss: 0.2542 - accuracy: 0.8909\n",
      "Epoch 46/60\n",
      "164/164 - 0s - loss: 0.2539 - accuracy: 0.8886\n",
      "Epoch 47/60\n",
      "164/164 - 0s - loss: 0.2480 - accuracy: 0.8894\n",
      "Epoch 48/60\n",
      "164/164 - 0s - loss: 0.2458 - accuracy: 0.8915\n",
      "Epoch 49/60\n",
      "164/164 - 0s - loss: 0.2446 - accuracy: 0.8970\n",
      "Epoch 50/60\n",
      "164/164 - 0s - loss: 0.2474 - accuracy: 0.8907\n",
      "Epoch 51/60\n",
      "164/164 - 0s - loss: 0.2449 - accuracy: 0.8934\n",
      "Epoch 52/60\n",
      "164/164 - 0s - loss: 0.2427 - accuracy: 0.8913\n",
      "Epoch 53/60\n",
      "164/164 - 0s - loss: 0.2406 - accuracy: 0.8953\n",
      "Epoch 54/60\n",
      "164/164 - 0s - loss: 0.2383 - accuracy: 0.8913\n",
      "Epoch 55/60\n",
      "164/164 - 0s - loss: 0.2387 - accuracy: 0.8966\n",
      "Epoch 56/60\n",
      "164/164 - 0s - loss: 0.2455 - accuracy: 0.8892\n",
      "Epoch 57/60\n",
      "164/164 - 0s - loss: 0.2491 - accuracy: 0.8913\n",
      "Epoch 58/60\n",
      "164/164 - 0s - loss: 0.2388 - accuracy: 0.8951\n",
      "Epoch 59/60\n",
      "164/164 - 0s - loss: 0.2429 - accuracy: 0.8928\n",
      "Epoch 60/60\n",
      "164/164 - 0s - loss: 0.2366 - accuracy: 0.8959\n"
     ]
    },
    {
     "output_type": "execute_result",
     "data": {
      "text/plain": [
       "<tensorflow.python.keras.callbacks.History at 0x237d1884a00>"
      ]
     },
     "metadata": {},
     "execution_count": 16
    }
   ],
   "source": [
    "model.fit(\n",
    "    X_train_scaled,\n",
    "    y_train_categorical,\n",
    "    epochs=60,\n",
    "    shuffle=True,\n",
    "    verbose=2\n",
    ")"
   ]
  },
  {
   "cell_type": "code",
   "execution_count": 17,
   "metadata": {},
   "outputs": [
    {
     "output_type": "stream",
     "name": "stdout",
     "text": [
      "55/55 - 0s - loss: 0.2713 - accuracy: 0.8930\n",
      "Normal Neural Network - Loss: 0.27128714323043823, Accuracy: 0.8930205702781677\n"
     ]
    }
   ],
   "source": [
    "#Quantify model\n",
    "model_loss, model_accuracy = model.evaluate(\n",
    "    X_test_scaled, y_test_categorical, verbose=2)\n",
    "print(\n",
    "    f\"Normal Neural Network - Loss: {model_loss}, Accuracy: {model_accuracy}\")"
   ]
  },
  {
   "cell_type": "code",
   "execution_count": 18,
   "metadata": {},
   "outputs": [
    {
     "output_type": "stream",
     "name": "stderr",
     "text": [
      "C:\\Users\\patou\\anaconda3\\lib\\site-packages\\tensorflow\\python\\keras\\engine\\sequential.py:450: UserWarning: `model.predict_classes()` is deprecated and will be removed after 2021-01-01. Please use instead:* `np.argmax(model.predict(x), axis=-1)`,   if your model does multi-class classification   (e.g. if it uses a `softmax` last-layer activation).* `(model.predict(x) > 0.5).astype(\"int32\")`,   if your model does binary classification   (e.g. if it uses a `sigmoid` last-layer activation).\n  warnings.warn('`model.predict_classes()` is deprecated and '\n"
     ]
    }
   ],
   "source": [
    "encoded_predictions = model.predict_classes(X_test_scaled[:5])\n",
    "prediction_labels = label_encoder.inverse_transform(encoded_predictions)"
   ]
  },
  {
   "cell_type": "code",
   "execution_count": 19,
   "metadata": {},
   "outputs": [
    {
     "output_type": "stream",
     "name": "stdout",
     "text": [
      "Predicted classes: ['FALSE POSITIVE' 'CANDIDATE' 'FALSE POSITIVE' 'FALSE POSITIVE'\n 'FALSE POSITIVE']\nActual Labels: ['FALSE POSITIVE', 'CANDIDATE', 'FALSE POSITIVE', 'FALSE POSITIVE', 'FALSE POSITIVE']\n"
     ]
    }
   ],
   "source": [
    "print(f\"Predicted classes: {prediction_labels}\")\n",
    "print(f\"Actual Labels: {list(y_test[:5])}\")"
   ]
  },
  {
   "cell_type": "markdown",
   "metadata": {},
   "source": [
    "# Save the Model"
   ]
  },
  {
   "cell_type": "code",
   "execution_count": 20,
   "metadata": {},
   "outputs": [],
   "source": [
    "# save your model by updating \"your_name\" with your name\n",
    "# and \"your_model\" with your model variable\n",
    "# be sure to turn this in to BCS\n",
    "# if joblib fails to import, try running the command to install in terminal/git-bash\n",
    "# import joblib\n",
    "# filename = 'DeepLearning.sav'\n",
    "# joblib.dump(model, filename)"
   ]
  },
  {
   "cell_type": "code",
   "execution_count": 22,
   "metadata": {},
   "outputs": [],
   "source": [
    "model.save(\"Sequential.h5\")"
   ]
  },
  {
   "cell_type": "code",
   "execution_count": null,
   "metadata": {},
   "outputs": [],
   "source": []
  }
 ],
 "metadata": {
  "kernel_info": {
   "name": "dev"
  },
  "kernelspec": {
   "name": "pythondata2",
   "display_name": "Python 3.8.3 64-bit ('base': conda)"
  },
  "language_info": {
   "codemirror_mode": {
    "name": "ipython",
    "version": 3
   },
   "file_extension": ".py",
   "mimetype": "text/x-python",
   "name": "python",
   "nbconvert_exporter": "python",
   "pygments_lexer": "ipython3",
   "version": "3.8.3"
  },
  "nteract": {
   "version": "0.12.3"
  }
 },
 "nbformat": 4,
 "nbformat_minor": 2
}